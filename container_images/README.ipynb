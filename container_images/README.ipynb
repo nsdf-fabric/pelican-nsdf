{
 "cells": [
  {
   "cell_type": "markdown",
   "id": "08276c35-f547-4322-b183-ade7d7a4cb1e",
   "metadata": {},
   "source": [
    "# Apptainer Container Image for OpenVisus"
   ]
  },
  {
   "cell_type": "markdown",
   "id": "04c6a638-cbfe-439d-90d8-2deede2c4bd9",
   "metadata": {},
   "source": [
    "## Assumptions"
   ]
  },
  {
   "cell_type": "markdown",
   "id": "bcfba88e-9d4a-4e5c-8845-1aed107d0bd8",
   "metadata": {},
   "source": [
    "1. You are running this notebook via [OSG's OSPool Notebooks service](https://notebook.ospool.osg-htc.org) as a user of ap40.uw.osg-htc.org."
   ]
  },
  {
   "cell_type": "markdown",
   "id": "d6c223c2-5627-415c-999e-c0903e6c5e7d",
   "metadata": {},
   "source": [
    "## Create the image"
   ]
  },
  {
   "cell_type": "markdown",
   "id": "dfba9b80-4f89-440b-8c0b-7dd2c06d9023",
   "metadata": {},
   "source": [
    "Open a terminal window, `cd` to the same directory as this notebook, and run the following command:\n",
    "\n",
    ">     apptainer build openvisuspy.sif openvisuspy.def \\\n",
    ">     && mv openvisuspy.sif \\\n",
    ">           /ospool/ap40/data/$(whoami)/openvisuspy-$(date +\"%Y%m%d-%H%M%S\").sif"
   ]
  }
 ],
 "metadata": {
  "kernelspec": {
   "display_name": "Bash [conda env:base] *",
   "language": "bash",
   "name": "conda-base-bash"
  },
  "language_info": {
   "codemirror_mode": "shell",
   "file_extension": ".sh",
   "mimetype": "text/x-sh",
   "name": "bash"
  }
 },
 "nbformat": 4,
 "nbformat_minor": 5
}
