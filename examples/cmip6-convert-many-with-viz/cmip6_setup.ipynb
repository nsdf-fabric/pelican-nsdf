{
 "cells": [
  {
   "cell_type": "markdown",
   "id": "a1cad4cc-ccb0-4257-a92a-69601e892732",
   "metadata": {},
   "source": [
    "# One-time setup"
   ]
  },
  {
   "cell_type": "markdown",
   "id": "1a1c34f6-23bc-45b8-860d-fe0c0bc8f493",
   "metadata": {},
   "source": [
    "This notebook walks you through the steps necessary to make [the demo notebook](cmip6_demo.ipynb) run successfully. These steps need to be carried out only once, or whenever you want to make sure that you're running the must update-to-date version of the demo's software."
   ]
  },
  {
   "cell_type": "markdown",
   "id": "c631ef3e-c5c4-4ef7-bf83-d2b05b1a1d5e",
   "metadata": {},
   "source": [
    "## Assumptions"
   ]
  },
  {
   "cell_type": "markdown",
   "id": "9579af2a-6822-4490-b466-dadcd89326e5",
   "metadata": {},
   "source": [
    "1. You are running this notebook via [OSG's OSPool Notebooks service](https://notebook.ospool.osg-htc.org) as a user of ap40.uw.osg-htc.org."
   ]
  },
  {
   "cell_type": "markdown",
   "id": "da7d1da3-ace1-4313-bad9-f4903c5536f8",
   "metadata": {},
   "source": [
    "## Create the `openvisuspy` Conda environment"
   ]
  },
  {
   "cell_type": "markdown",
   "id": "b9f36b28-2e5e-4b6d-be65-baa8964e0def",
   "metadata": {},
   "source": [
    "A pre-defined Conda environment containing `openvisuspy` and other libraries for processing and visualizing data can be found in [../../conda_environments/openvisuspy.yml](../../conda_environments/openvisuspy.yml). The process of creating the environment might take on the order of ten minutes."
   ]
  },
  {
   "cell_type": "code",
   "execution_count": null,
   "id": "1c435f85-b0ab-4acb-a937-7cd7feb52cf7",
   "metadata": {},
   "outputs": [],
   "source": [
    "!conda env update -q -f ../../conda_environments/openvisuspy.yml\n",
    "!echo\n",
    "!echo \"Finished. (Check the output above for errors.)\""
   ]
  },
  {
   "cell_type": "markdown",
   "id": "28d79697-b527-4383-a463-c41acaaaec7a",
   "metadata": {},
   "source": [
    "## Create the `openvisuspy` container image"
   ]
  },
  {
   "cell_type": "markdown",
   "id": "6f24959b-b9aa-4c2e-8efd-dc7298c60612",
   "metadata": {},
   "source": [
    "Follow the directions in [../../container_images](../../container_images/README.md)."
   ]
  },
  {
   "cell_type": "markdown",
   "id": "2cde5b34-1cbb-40c5-be62-6be6253e2db8",
   "metadata": {},
   "source": [
    "## Download the Pelican client"
   ]
  },
  {
   "cell_type": "code",
   "execution_count": null,
   "id": "90fff398-948c-471b-9630-b38cb5fb633f",
   "metadata": {},
   "outputs": [],
   "source": [
    "!curl -O -fsSL https://github.com/PelicanPlatform/pelican/releases/download/v7.10.4/pelican_Linux_x86_64.tar.gz\n",
    "!tar zxvf pelican_Linux_x86_64.tar.gz\n",
    "!cp pelican-7.10.4/pelican .\n",
    "!echo\n",
    "!echo \"Finished. (Check the output above for errors.)\""
   ]
  },
  {
   "cell_type": "markdown",
   "id": "c6394ccf-51f5-4b39-ad79-d35e4bedd29b",
   "metadata": {},
   "source": [
    "Note: The HTCondor job submitted by [the demo notebook](cmip6_demo.ipynb) for converting data invokes the `pelican` command-line client directly because it copies data to an OSDF origin that is not associated with the AP and thus requires that we supply the authorization token ourselves."
   ]
  }
 ],
 "metadata": {
  "kernelspec": {
   "display_name": "Python [conda env:base] *",
   "language": "python",
   "name": "conda-base-py"
  },
  "language_info": {
   "codemirror_mode": {
    "name": "ipython",
    "version": 3
   },
   "file_extension": ".py",
   "mimetype": "text/x-python",
   "name": "python",
   "nbconvert_exporter": "python",
   "pygments_lexer": "ipython3",
   "version": "3.11.9"
  }
 },
 "nbformat": 4,
 "nbformat_minor": 5
}
