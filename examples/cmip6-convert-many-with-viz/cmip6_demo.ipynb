{
 "cells": [
  {
   "cell_type": "markdown",
   "id": "c8680cd9-2977-4331-9bf9-8faa57b979f5",
   "metadata": {},
   "source": [
    "# Converting the CMIP6 Data Set to the OpenVisus Visualization Format"
   ]
  },
  {
   "cell_type": "markdown",
   "id": "7657c091-c83f-4fd1-85c8-beca2e5163f2",
   "metadata": {},
   "source": [
    "This Jupyter notebook provides an example of how one might take a portion of the CMIP6 Data Set and convert it to the OpenVisus Visualization Format."
   ]
  },
  {
   "cell_type": "markdown",
   "id": "61c0f525-729c-4e02-9afa-3b1d8075387c",
   "metadata": {},
   "source": [
    "## Assumptions"
   ]
  },
  {
   "cell_type": "markdown",
   "id": "8070df69-54f0-4a5c-93af-fd601726d6af",
   "metadata": {},
   "source": [
    "1. You are running this notebook via [OSG's OSPool Notebooks service](https://notebook.ospool.osg-htc.org) as a user of ap40.uw.osg-htc.org.\n",
    "\n",
    "2. You have run through the steps in [the setup notebook](cmip6_setup.ipynb).\n",
    "\n",
    "3. You have selected the `openvisuspy` kernel for this notebook via the Jupyter interface.\n",
    "\n",
    "4. You have a token stored in the file `osdf.token` that authorizes the bearer to write into OSDF."
   ]
  },
  {
   "cell_type": "markdown",
   "id": "30dc0ae3-6331-41b6-99ee-b591f6582d06",
   "metadata": {},
   "source": [
    "## Define the scenario to process and where to place the output"
   ]
  },
  {
   "cell_type": "markdown",
   "id": "31cb9ea2-6a89-4a81-a137-a25dfadc6426",
   "metadata": {},
   "source": [
    "Set the following variables to the portion of the CMIP6 data set that you'd like to process."
   ]
  },
  {
   "cell_type": "code",
   "execution_count": null,
   "id": "ceec3416-042b-40d1-8024-115c58397749",
   "metadata": {},
   "outputs": [],
   "source": [
    "model = \"ACCESS-CM2\"\n",
    "interval = \"day\"\n",
    "scenario = \"historical\"\n",
    "variant = \"r1i1p1f1\"\n",
    "variant_2 = \"gn\"\n",
    "variable = \"hurs\"\n",
    "version = \"\""
   ]
  },
  {
   "cell_type": "markdown",
   "id": "bfd31afb-e0e2-4bc1-b774-0a6334ec7222",
   "metadata": {},
   "source": [
    "Set the following variable to the path in OSDF where you'd like to place the converted data."
   ]
  },
  {
   "cell_type": "code",
   "execution_count": null,
   "id": "cf10c3a6-f4df-46e9-a515-5ec2f1ad1c19",
   "metadata": {},
   "outputs": [],
   "source": [
    "output_path = \"/nsdf/testing/20241114/v7\""
   ]
  },
  {
   "cell_type": "markdown",
   "id": "25e59b28-a920-4c90-af27-14d755bba643",
   "metadata": {},
   "source": [
    "Set the following variable to the location of the `openvisuspy` container image that you created in [the setup notebook](cmip6_setup.ipynb)."
   ]
  },
  {
   "cell_type": "code",
   "execution_count": null,
   "id": "d9151c75-05cb-4093-9ca9-01c1260cdddf",
   "metadata": {},
   "outputs": [],
   "source": [
    "container_image = \"osdf:///ospool/ap40/data/brian.aydemir/openvisuspy-20241113-215324.sif\""
   ]
  },
  {
   "cell_type": "markdown",
   "id": "7f604818-dba5-4b0b-91e1-cc4a3b4d8661",
   "metadata": {},
   "source": [
    "We can now define the full URLs for the OpenVisus output. We use `pelican://` URLs for compatibility with the OpenVisus library."
   ]
  },
  {
   "cell_type": "code",
   "execution_count": null,
   "id": "11ab4927-6e6a-4b2f-b2ce-3d0c8e8f9373",
   "metadata": {},
   "outputs": [],
   "source": [
    "output_loc = f\"pelican://osg-htc.org{output_path}\"\n",
    "\n",
    "idx_filename = \"nex-gddp-cmip6.idx\"\n",
    "dataset_loc = f\"{output_loc}/{idx_filename}\"\n",
    "dataset_path = f\"{output_path}/{idx_filename}\""
   ]
  },
  {
   "cell_type": "markdown",
   "id": "8c93a1e1-15d7-4871-bff1-8b8d1c8d18c1",
   "metadata": {},
   "source": [
    "## Convert the data set's objects"
   ]
  },
  {
   "cell_type": "markdown",
   "id": "b6be34d9-3f77-4c87-820a-596dd4dd99db",
   "metadata": {},
   "source": [
    "### Determine the list of objects to process"
   ]
  },
  {
   "cell_type": "code",
   "execution_count": null,
   "id": "2493df54-fa48-436a-bbf1-b395e916048c",
   "metadata": {},
   "outputs": [],
   "source": [
    "## Identify the objects in AWS that might need processing.\n",
    "\n",
    "version_suffix = f\"_{version}\" if version else \"\"\n",
    "aws_objects = !grep -E '{model}/{scenario}/{variant}/{variable}/{variable}_{interval}_{model}_{scenario}_{variant}_{variant_2}_([0-9]+){version_suffix}.nc' ../nex-gddp-cmip6-listing/nex-gddp-cmip6.txt\n",
    "aws_objects = [x.split()[3] for x in aws_objects]\n",
    "\n",
    "\n",
    "## Filter objects that have already been processed.\n",
    "\n",
    "import os.path\n",
    "import pelicanfs.core\n",
    "\n",
    "osdf_fs = pelicanfs.core.PelicanFileSystem(\"pelican://osg-htc.org\", direct_reads=True)\n",
    "\n",
    "for path in aws_objects[:]:\n",
    "    filename = os.path.basename(path)\n",
    "    print(f\"Checking: {filename}\")\n",
    "    if osdf_fs.exists(f\"{output_path}/{filename}.idx\"):\n",
    "        aws_objects_list.remove(entry)"
   ]
  },
  {
   "cell_type": "code",
   "execution_count": null,
   "id": "314c5e3c-6cd8-4d41-9ae5-0374bbc1ed60",
   "metadata": {},
   "outputs": [],
   "source": [
    "## Further filter the list of files, e.g., for development and testing.\n",
    "\n",
    "aws_objects = aws_objects[:1]"
   ]
  },
  {
   "cell_type": "markdown",
   "id": "5f467406-2390-499a-8366-ae215de8dd74",
   "metadata": {},
   "source": [
    "### Submit the conversion jobs"
   ]
  },
  {
   "cell_type": "code",
   "execution_count": null,
   "id": "c1315ac3-53d5-4972-8236-1e10102e094e",
   "metadata": {},
   "outputs": [],
   "source": [
    "import pathlib\n",
    "import platform\n",
    "import htcondor\n",
    "\n",
    "\n",
    "## HACK: Ensure that job credentials are available.\n",
    "\n",
    "!echo | condor_store_cred add-oauth -s scitokens -i - >/dev/null\n",
    "\n",
    "\n",
    "## Remove log files from previous runs.\n",
    "\n",
    "pathlib.Path(\"convert_dataset.log\").unlink(missing_ok=True)\n",
    "pathlib.Path(\"error\").mkdir(exist_ok=True)\n",
    "pathlib.Path(\"output\").mkdir(exist_ok=True)\n",
    "\n",
    "for path in pathlib.Path(\"error\").glob(\"*.err\"):\n",
    "    path.unlink()\n",
    "\n",
    "for path in pathlib.Path(\"output\").glob(\"*.out\"):\n",
    "    path.unlink()\n",
    "\n",
    "\n",
    "## Submit the jobs.\n",
    "\n",
    "itemdata = [\n",
    "    {\"aws_object\": path, \"aws_filename\": os.path.basename(path)}\n",
    "    for path\n",
    "    in aws_objects\n",
    "]\n",
    "output_dir = \"visus\"\n",
    "\n",
    "job_description = htcondor.Submit(\n",
    "    f\"\"\"\n",
    "    container_image = {container_image}\n",
    "    args = python3 convert_dataset.py $(aws_filename) {output_dir}\n",
    "\n",
    "    transfer_input_files = \\\n",
    "        convert_dataset.py, \\\n",
    "        osdf:///aws-opendata/us-west-2/nex-gddp-cmip6/$(aws_object), \\\n",
    "        osdf.token\n",
    "    transfer_output_files = \\\n",
    "        {output_dir}/$(aws_filename), \\\n",
    "        {output_dir}/$(aws_filename).idx\n",
    "    transfer_output_remaps = \" \\\n",
    "        {output_dir}/$(aws_filename) = {output_loc}/nex-gddp-cmip6; \\\n",
    "        {output_dir}/$(aws_filename).idx = {output_loc}/$(aws_filename).idx\"\n",
    "\n",
    "    ## Specify resource requests and other requirements.\n",
    "    request_cpus = 2\n",
    "    request_memory = 4G\n",
    "    request_disk = 4G\n",
    "\n",
    "    ## Save the job log, and standard output and error.\n",
    "    log = convert_dataset.log\n",
    "    output = output/convert_dataset.$(JobId).out\n",
    "    error = error/convert_dataset.$(JobId).err\n",
    "\n",
    "    ## Make it easier to monitor and follow-up on \"failed\" jobs.                              \n",
    "    on_exit_hold = ExitCode =!= 0\n",
    "\n",
    "    ## Use the backfill EP provided by the OSPool Notebooks service.\n",
    "    # +FromJupyter = true\n",
    "    # requirements = Machine == \"CHTC-Jupyter-User-EP.{platform.node()}\"\n",
    "    \"\"\"\n",
    ")\n",
    "\n",
    "submitted_job = htcondor.Schedd().submit(job_description, itemdata=iter(itemdata))"
   ]
  },
  {
   "cell_type": "markdown",
   "id": "5778dda4-65f3-4ce3-984f-64607bf40c23",
   "metadata": {},
   "source": [
    "### Wait for the job to complete"
   ]
  },
  {
   "cell_type": "code",
   "execution_count": null,
   "id": "116c219c-9c42-49fc-afb4-cfcb28020094",
   "metadata": {
    "scrolled": true
   },
   "outputs": [],
   "source": [
    "import demo_support\n",
    "\n",
    "demo_support.wait_for_job(f\"convert_dataset.log\")"
   ]
  },
  {
   "cell_type": "markdown",
   "id": "44c5cb40-fda6-40fc-a5cd-ccf9ccc027e6",
   "metadata": {},
   "source": [
    "### (WIP) Upload a single OpenVisus idx file for the entire dataset"
   ]
  },
  {
   "cell_type": "markdown",
   "id": "99522b40-f0fe-4066-b4fb-c886a753051a",
   "metadata": {},
   "source": [
    "The Pelican `fsspec` implementation currently does not support writing objects."
   ]
  },
  {
   "cell_type": "code",
   "execution_count": null,
   "id": "c20e59e0-ce52-489c-b04c-9889bf5e0bba",
   "metadata": {},
   "outputs": [],
   "source": [
    "!PELICAN_LOGGING_DISABLEPROGRESSBARS=true pelican object put --debug --token osdf.token ../nex-gddp-cmip6-listing/nex-gddp-cmip6.idx {dataset_loc}"
   ]
  },
  {
   "cell_type": "code",
   "execution_count": null,
   "id": "062ba60f-7b51-4656-9215-1b0b351e81d6",
   "metadata": {},
   "outputs": [],
   "source": [
    "import pathlib\n",
    "\n",
    "token = pathlib.Path(\"osdf.token\").read_text()\n",
    "\n",
    "osdf_fs.put(\n",
    "    \"../nex-gddp-cmip6-listing/nex-gddp-cmip6.idx\",\n",
    "    dataset_path,\n",
    "    headers={\"Authorization\": f\"Bearer {token}\"}\n",
    ")"
   ]
  },
  {
   "cell_type": "markdown",
   "id": "6b2fb966-3461-4d89-a7ca-7aa4a7903eb3",
   "metadata": {},
   "source": [
    "## Visualize the dataset"
   ]
  },
  {
   "cell_type": "markdown",
   "id": "4facf045-bd6f-4b95-9702-1974fb8dcd18",
   "metadata": {},
   "source": [
    "### Import libraries"
   ]
  },
  {
   "cell_type": "code",
   "execution_count": null,
   "id": "755ac714-5edc-4506-8f6e-50b72d5b96a7",
   "metadata": {},
   "outputs": [],
   "source": [
    "import IPython.display\n",
    "import matplotlib.animation\n",
    "import matplotlib.pyplot as plt\n",
    "import numpy as np\n",
    "import OpenVisus\n",
    "import openvisuspy as ov"
   ]
  },
  {
   "cell_type": "markdown",
   "id": "2af488c5-1e9a-453f-8b4d-313589226393",
   "metadata": {},
   "source": [
    "### Load the dataset"
   ]
  },
  {
   "cell_type": "code",
   "execution_count": null,
   "id": "440f0a18-7097-4f28-ada2-c9f3ffe88e21",
   "metadata": {},
   "outputs": [],
   "source": [
    "db = ov.LoadDataset(dataset_loc + \"?directread\")"
   ]
  },
  {
   "cell_type": "markdown",
   "id": "7dfa55b6-60b2-4359-8650-fbe60b2d4446",
   "metadata": {},
   "source": [
    "Note: Pelican's `directread` option here should only be necessary when there are problems with its internal caching infrastructure."
   ]
  },
  {
   "cell_type": "markdown",
   "id": "e9e81746-1d1c-4139-9590-92b358b428de",
   "metadata": {},
   "source": [
    "### Show some basic information"
   ]
  },
  {
   "cell_type": "code",
   "execution_count": null,
   "id": "dcd4742d-c314-485a-8987-f526d9ca8b02",
   "metadata": {},
   "outputs": [],
   "source": [
    "print(\"Dimensions:\", db.getLogicBox())\n",
    "print(\"Total Timesteps:\", len(db.getTimesteps()))\n",
    "print(\"Total Field:\", len(db.getFields()))"
   ]
  },
  {
   "cell_type": "markdown",
   "id": "fe4dfc54-b5d6-48bd-bea9-94bfd2732582",
   "metadata": {},
   "source": [
    "### Animate the data"
   ]
  },
  {
   "cell_type": "markdown",
   "id": "a9b6ecbb-bbbd-4a56-a210-8c340e1f0907",
   "metadata": {},
   "source": [
    "Only a few timestemps are chosen (see the definition of `animation`) for the purposes of illustration."
   ]
  },
  {
   "cell_type": "code",
   "execution_count": null,
   "id": "782bafbe-3fd0-4037-9a54-a4773b78307b",
   "metadata": {},
   "outputs": [],
   "source": [
    "## Extract dimensions from the first timestep.\n",
    "\n",
    "quality = 0  # full resolution = 0, coarse = -4, coarser = -8\n",
    "timestep = db.getTimesteps()[0]\n",
    "data3D = db.db.read(time=timestep, quality=quality)\n",
    "data = data3D[:,:]\n",
    "H, W = data3D.shape\n",
    "\n",
    "\n",
    "## Define and show the animation.\n",
    "\n",
    "fig, axes = plt.subplots(nrows=1, ncols=1, figsize=(10, 10 * H / W))\n",
    "axes.set_xlim(0, W)\n",
    "axes.set_ylim(0, H)\n",
    "# TODO: Determine how to set `vmin` and `vmax`.\n",
    "image = axes.imshow(data, extent=[0, W, 0, H], aspect=\"auto\", origin=\"lower\", vmax=110, cmap=\"viridis\")\n",
    "\n",
    "def frame_fn(timestep):\n",
    "    data3D = db.db.read(time=timestep, quality=quality)\n",
    "    data = data3D[:,:]\n",
    "    image.set_data(data)\n",
    "\n",
    "plt.rcParams[\"animation.embed_limit\"] = 100  # MB\n",
    "animation = matplotlib.animation.FuncAnimation(fig, frame_fn, frames=db.getTimesteps()[4:8])\n",
    "IPython.display.HTML(animation.to_jshtml())"
   ]
  }
 ],
 "metadata": {
  "kernelspec": {
   "display_name": "Python [conda env:.conda-openvisuspy]",
   "language": "python",
   "name": "conda-env-.conda-openvisuspy-py"
  },
  "language_info": {
   "codemirror_mode": {
    "name": "ipython",
    "version": 3
   },
   "file_extension": ".py",
   "mimetype": "text/x-python",
   "name": "python",
   "nbconvert_exporter": "python",
   "pygments_lexer": "ipython3",
   "version": "3.10.15"
  }
 },
 "nbformat": 4,
 "nbformat_minor": 5
}
