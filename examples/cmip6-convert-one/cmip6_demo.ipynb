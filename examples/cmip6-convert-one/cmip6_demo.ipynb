{
 "cells": [
  {
   "cell_type": "markdown",
   "id": "c8680cd9-2977-4331-9bf9-8faa57b979f5",
   "metadata": {},
   "source": [
    "# Converting the CMIP6 Data Set to the OpenVisus Visualization Format"
   ]
  },
  {
   "cell_type": "markdown",
   "id": "7657c091-c83f-4fd1-85c8-beca2e5163f2",
   "metadata": {},
   "source": [
    "This Jupyter notebook provides an example of how one might take a portion of the CMIP6 Data Set and convert it to the OpenVisus Visualization Format."
   ]
  },
  {
   "cell_type": "markdown",
   "id": "61c0f525-729c-4e02-9afa-3b1d8075387c",
   "metadata": {},
   "source": [
    "## Assumptions"
   ]
  },
  {
   "cell_type": "markdown",
   "id": "8070df69-54f0-4a5c-93af-fd601726d6af",
   "metadata": {},
   "source": [
    "1. You are running this notebook via [OSG's OSPool Notebooks service](https://notebook.ospool.osg-htc.org) as a user of ap40.uw.osg-htc.org.\n",
    "\n",
    "2. You have run through the steps in [the setup notebook](cmip6_setup.ipynb).\n",
    "\n",
    "3. You have selected the `openvisuspy` kernel for this notebook via the Jupyter interface."
   ]
  },
  {
   "cell_type": "markdown",
   "id": "f6632285-65c3-4064-94fd-084ba3e9d5f8",
   "metadata": {},
   "source": [
    "## Ensure that job credentials are available"
   ]
  },
  {
   "cell_type": "markdown",
   "id": "1620cbd0-7857-4954-907b-3eedae706537",
   "metadata": {},
   "source": [
    "N.B. This step is necessary only to work around a bug or misconfiguration that has yet to be fixed. Normally, these credentials are handled by HTCondor automatically."
   ]
  },
  {
   "cell_type": "code",
   "execution_count": null,
   "id": "ac6bf025-d3b1-4751-8d61-7a25482480fd",
   "metadata": {},
   "outputs": [],
   "source": [
    "!echo | condor_store_cred add-oauth -s scitokens -i -"
   ]
  },
  {
   "cell_type": "markdown",
   "id": "5f467406-2390-499a-8366-ae215de8dd74",
   "metadata": {},
   "source": [
    "## Submit the job"
   ]
  },
  {
   "cell_type": "markdown",
   "id": "25e59b28-a920-4c90-af27-14d755bba643",
   "metadata": {},
   "source": [
    "Set `ds_object` to the NetCDF file that you wish to convert.\n",
    "\n",
    "Set `container_image` to the location of the `openvisuspy` container image that you created in [the setup notebook](cmip6_setup.ipynb)."
   ]
  },
  {
   "cell_type": "code",
   "execution_count": null,
   "id": "c1315ac3-53d5-4972-8236-1e10102e094e",
   "metadata": {},
   "outputs": [],
   "source": [
    "import htcondor\n",
    "import pathlib\n",
    "\n",
    "\n",
    "## Define the object to convert.\n",
    "\n",
    "federation_prefix = \"osdf://aws-opendata/us-west-2\"\n",
    "ds_object = \"nex-gddp-cmip6/NEX-GDDP-CMIP6/ACCESS-CM2/historical/r1i1p1f1/hurs/hurs_day_ACCESS-CM2_historical_r1i1p1f1_gn_1950.nc\"\n",
    "destination_dir = \"openvisus\"\n",
    "\n",
    "\n",
    "## Remove log files from previous runs.\n",
    "\n",
    "for ext in [\".log\", \".out\", \".err\"]:\n",
    "    pathlib.Path(f\"convert_dataset{ext}\").unlink(missing_ok=True)\n",
    "\n",
    "\n",
    "## Submit the job.\n",
    "\n",
    "job_description = htcondor.Submit(\n",
    "    f\"\"\"\n",
    "    container_image = osdf://ospool/ap40/data/brian.aydemir/openvisuspy-20240805-0945.sif\n",
    "    args = python3 convert_dataset.py {destination_dir} $BASENAME({ds_object})\n",
    "\n",
    "    transfer_input_files = convert_dataset.py, {federation_prefix}/{ds_object}\n",
    "    transfer_output_files = {destination_dir}\n",
    "\n",
    "    ## Save the job log, and standard output and error.\n",
    "    log = convert_dataset.log\n",
    "    output = convert_dataset.out\n",
    "    error = convert_dataset.err\n",
    "\n",
    "    ## Specify resource requests and other requirements.\n",
    "    request_cpus = 2\n",
    "    request_memory = 4G\n",
    "    request_disk = 4G\n",
    "    \"\"\"\n",
    ")\n",
    "\n",
    "submitted_job = htcondor.Schedd().submit(job_description)"
   ]
  },
  {
   "cell_type": "markdown",
   "id": "5778dda4-65f3-4ce3-984f-64607bf40c23",
   "metadata": {},
   "source": [
    "## Wait for the job to complete"
   ]
  },
  {
   "cell_type": "code",
   "execution_count": null,
   "id": "116c219c-9c42-49fc-afb4-cfcb28020094",
   "metadata": {},
   "outputs": [],
   "source": [
    "import demo_support\n",
    "\n",
    "demo_support.wait_for_job(f\"convert_dataset.log\")"
   ]
  }
 ],
 "metadata": {
  "kernelspec": {
   "display_name": "Python [conda env:.conda-openvisuspy]",
   "language": "python",
   "name": "conda-env-.conda-openvisuspy-py"
  },
  "language_info": {
   "codemirror_mode": {
    "name": "ipython",
    "version": 3
   },
   "file_extension": ".py",
   "mimetype": "text/x-python",
   "name": "python",
   "nbconvert_exporter": "python",
   "pygments_lexer": "ipython3",
   "version": "3.10.14"
  }
 },
 "nbformat": 4,
 "nbformat_minor": 5
}
