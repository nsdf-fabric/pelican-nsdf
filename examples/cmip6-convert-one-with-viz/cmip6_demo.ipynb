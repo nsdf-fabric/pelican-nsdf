{
 "cells": [
  {
   "cell_type": "markdown",
   "id": "c8680cd9-2977-4331-9bf9-8faa57b979f5",
   "metadata": {},
   "source": [
    "# Converting the CMIP6 Data Set to the OpenVisus Visualization Format"
   ]
  },
  {
   "cell_type": "markdown",
   "id": "7657c091-c83f-4fd1-85c8-beca2e5163f2",
   "metadata": {},
   "source": [
    "This Jupyter notebook provides an example of how one might take a portion of the CMIP6 Data Set and convert it to the OpenVisus Visualization Format."
   ]
  },
  {
   "cell_type": "markdown",
   "id": "61c0f525-729c-4e02-9afa-3b1d8075387c",
   "metadata": {},
   "source": [
    "## Assumptions"
   ]
  },
  {
   "cell_type": "markdown",
   "id": "8070df69-54f0-4a5c-93af-fd601726d6af",
   "metadata": {},
   "source": [
    "1. You are running this notebook via [OSG's OSPool Notebooks service](https://notebook.ospool.osg-htc.org) as a user of ap40.uw.osg-htc.org.\n",
    "\n",
    "2. You have run through the steps in [the setup notebook](cmip6_setup.ipynb).\n",
    "\n",
    "3. You have selected the `openvisuspy` kernel for this notebook via the Jupyter interface."
   ]
  },
  {
   "cell_type": "markdown",
   "id": "f6632285-65c3-4064-94fd-084ba3e9d5f8",
   "metadata": {},
   "source": [
    "## Ensure that job credentials are available"
   ]
  },
  {
   "cell_type": "markdown",
   "id": "1620cbd0-7857-4954-907b-3eedae706537",
   "metadata": {},
   "source": [
    "N.B. This step is necessary only to work around a bug or misconfiguration that has yet to be fixed. Normally, these credentials are handled by HTCondor automatically."
   ]
  },
  {
   "cell_type": "code",
   "execution_count": null,
   "id": "ac6bf025-d3b1-4751-8d61-7a25482480fd",
   "metadata": {},
   "outputs": [],
   "source": [
    "!echo | condor_store_cred add-oauth -s scitokens -i -"
   ]
  },
  {
   "cell_type": "markdown",
   "id": "5f467406-2390-499a-8366-ae215de8dd74",
   "metadata": {},
   "source": [
    "## Submit the job"
   ]
  },
  {
   "cell_type": "markdown",
   "id": "25e59b28-a920-4c90-af27-14d755bba643",
   "metadata": {},
   "source": [
    "Set `container_image` to the location of the `openvisuspy` container image that you created in [the setup notebook](cmip6_setup.ipynb).\n",
    "\n",
    "Set `ds_object` to the NetCDF file that you wish to convert.\n",
    "\n",
    "Set `pelican_loc` to the location in a Pelican federation, e.g., OSDF, where the OpenVisus index should be copied to."
   ]
  },
  {
   "cell_type": "code",
   "execution_count": null,
   "id": "d9151c75-05cb-4093-9ca9-01c1260cdddf",
   "metadata": {},
   "outputs": [],
   "source": [
    "## Define the container image for the OpenVisus software stack.\n",
    "\n",
    "container_image = \"osdf://ospool/ap40/data/brian.aydemir/openvisuspy-20240812-1020.sif\"\n",
    "\n",
    "\n",
    "## Define the object to convert.\n",
    "\n",
    "federation_prefix = \"osdf://aws-opendata/us-west-2\"\n",
    "ds_object = \"nex-gddp-cmip6/NEX-GDDP-CMIP6/ACCESS-CM2/historical/r1i1p1f1/hurs/hurs_day_ACCESS-CM2_historical_r1i1p1f1_gn_1950.nc\"\n",
    "destination_dir = \"openvisus\"\n",
    "\n",
    "\n",
    "## Define where to store the OpenVisus output.\n",
    "\n",
    "pelican_loc = \"openvisus-fs\""
   ]
  },
  {
   "cell_type": "code",
   "execution_count": null,
   "id": "c1315ac3-53d5-4972-8236-1e10102e094e",
   "metadata": {},
   "outputs": [],
   "source": [
    "import htcondor\n",
    "import pathlib\n",
    "\n",
    "\n",
    "## Record information about where this notebook is running\n",
    "\n",
    "hostname, = !hostname\n",
    "\n",
    "\n",
    "## Remove log files from previous runs.\n",
    "\n",
    "for ext in [\".log\", \".out\", \".err\"]:\n",
    "    pathlib.Path(f\"convert_dataset{ext}\").unlink(missing_ok=True)\n",
    "\n",
    "\n",
    "## Submit the job.\n",
    "\n",
    "job_description = htcondor.Submit(\n",
    "    f\"\"\"\n",
    "    container_image = {container_image}\n",
    "    args = python3 convert_dataset.py {destination_dir} $BASENAME({ds_object})\n",
    "\n",
    "    transfer_input_files = convert_dataset.py, {federation_prefix}/{ds_object}\n",
    "    transfer_output_files = {destination_dir}\n",
    "    transfer_output_remaps = \"{destination_dir} = {pelican_loc}\"\n",
    "\n",
    "    ## Use the backfill EP provided by the OSPool Notebooks service.\n",
    "    requirements = Machine == \"CHTC-Jupyter-User-EP.{hostname}\"\n",
    "    +FromJupyter = true\n",
    "\n",
    "    ## Save the job log, and standard output and error.\n",
    "    log = convert_dataset.log\n",
    "    output = convert_dataset.out\n",
    "    error = convert_dataset.err\n",
    "\n",
    "    ## Specify resource requests and other requirements.\n",
    "    request_cpus = 2\n",
    "    request_memory = 4G\n",
    "    request_disk = 4G\n",
    "\n",
    "    ## Make it easier to monitor and follow-up on jobs.                              \n",
    "    stream_output = true\n",
    "    stream_error = true\n",
    "    on_exit_hold = ExitCode =!= 0\n",
    "    \"\"\"\n",
    ")\n",
    "\n",
    "submitted_job = htcondor.Schedd().submit(job_description)"
   ]
  },
  {
   "cell_type": "markdown",
   "id": "5778dda4-65f3-4ce3-984f-64607bf40c23",
   "metadata": {},
   "source": [
    "## Wait for the job to complete"
   ]
  },
  {
   "cell_type": "code",
   "execution_count": null,
   "id": "116c219c-9c42-49fc-afb4-cfcb28020094",
   "metadata": {},
   "outputs": [],
   "source": [
    "import demo_support\n",
    "\n",
    "demo_support.wait_for_job(f\"convert_dataset.log\")"
   ]
  },
  {
   "cell_type": "markdown",
   "id": "6b2fb966-3461-4d89-a7ca-7aa4a7903eb3",
   "metadata": {},
   "source": [
    "## Visualize the dataset"
   ]
  },
  {
   "cell_type": "markdown",
   "id": "4facf045-bd6f-4b95-9702-1974fb8dcd18",
   "metadata": {},
   "source": [
    "### Import libraries"
   ]
  },
  {
   "cell_type": "code",
   "execution_count": null,
   "id": "755ac714-5edc-4506-8f6e-50b72d5b96a7",
   "metadata": {},
   "outputs": [],
   "source": [
    "import os\n",
    "import pathlib\n",
    "\n",
    "import IPython.display\n",
    "import matplotlib.animation\n",
    "import matplotlib.pyplot as plt\n",
    "import numpy as np\n",
    "import OpenVisus\n",
    "import openvisuspy as ov"
   ]
  },
  {
   "cell_type": "markdown",
   "id": "2af488c5-1e9a-453f-8b4d-313589226393",
   "metadata": {},
   "source": [
    "### Load the dataset"
   ]
  },
  {
   "cell_type": "code",
   "execution_count": null,
   "id": "440f0a18-7097-4f28-ada2-c9f3ffe88e21",
   "metadata": {},
   "outputs": [],
   "source": [
    "# token = pathlib.Path(\"pelican_token\").read_text()\n",
    "dataset_loc = f\"{pelican_loc}/visus.idx\"\n",
    "db = ov.LoadDataset(dataset_loc)"
   ]
  },
  {
   "cell_type": "markdown",
   "id": "e9e81746-1d1c-4139-9590-92b358b428de",
   "metadata": {},
   "source": [
    "### Show some basic information"
   ]
  },
  {
   "cell_type": "code",
   "execution_count": null,
   "id": "dcd4742d-c314-485a-8987-f526d9ca8b02",
   "metadata": {},
   "outputs": [],
   "source": [
    "print(\"Dataset loaded from:\", dataset_loc)\n",
    "print(\"Dimensions:\", db.getLogicBox())\n",
    "print(\"Total Timesteps:\", len(db.getTimesteps()))\n",
    "print(\"Field:\", db.getField().name)"
   ]
  },
  {
   "cell_type": "markdown",
   "id": "fe4dfc54-b5d6-48bd-bea9-94bfd2732582",
   "metadata": {},
   "source": [
    "### Animate the data"
   ]
  },
  {
   "cell_type": "code",
   "execution_count": null,
   "id": "782bafbe-3fd0-4037-9a54-a4773b78307b",
   "metadata": {},
   "outputs": [],
   "source": [
    "## Extract dimensions from the first timestep.\n",
    "\n",
    "quality = 0  # full resolution = 0, coarse = -4, coarser = -8\n",
    "timestep = db.getTimesteps()[0]\n",
    "data3D = db.db.read(time=timestep, quality=quality)\n",
    "data = data3D[:,:]\n",
    "H, W = data3D.shape\n",
    "\n",
    "\n",
    "## Define and show the animation.\n",
    "\n",
    "fig, axes = plt.subplots(nrows=1, ncols=1, figsize=(10, 10 * H / W))\n",
    "axes.set_xlim(0, W)\n",
    "axes.set_ylim(0, H)\n",
    "# TODO: Determine how to set `vmin` and `vmax`.\n",
    "image = axes.imshow(data, extent=[0, W, 0, H], aspect=\"auto\", origin=\"lower\", vmax=110, cmap=\"viridis\")\n",
    "\n",
    "def frame_fn(timestep):\n",
    "    data3D = db.db.read(time=timestep, quality=quality)\n",
    "    data = data3D[:,:]\n",
    "    image.set_data(data)\n",
    "\n",
    "plt.rcParams[\"animation.embed_limit\"] = 100  # MB\n",
    "animation = matplotlib.animation.FuncAnimation(fig, frame_fn, frames=db.getTimesteps())\n",
    "IPython.display.HTML(animation.to_jshtml())"
   ]
  }
 ],
 "metadata": {
  "kernelspec": {
   "display_name": "Python [conda env:.conda-openvisuspy]",
   "language": "python",
   "name": "conda-env-.conda-openvisuspy-py"
  },
  "language_info": {
   "codemirror_mode": {
    "name": "ipython",
    "version": 3
   },
   "file_extension": ".py",
   "mimetype": "text/x-python",
   "name": "python",
   "nbconvert_exporter": "python",
   "pygments_lexer": "ipython3",
   "version": "3.10.14"
  }
 },
 "nbformat": 4,
 "nbformat_minor": 5
}
